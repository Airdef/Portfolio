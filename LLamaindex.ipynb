{
  "cells": [
    {
      "cell_type": "markdown",
      "metadata": {
        "id": "view-in-github",
        "colab_type": "text"
      },
      "source": [
        "<a href=\"https://colab.research.google.com/github/Airdef/Portfolio/blob/main/LLamaindex.ipynb\" target=\"_parent\"><img src=\"https://colab.research.google.com/assets/colab-badge.svg\" alt=\"Open In Colab\"/></a>"
      ]
    },
    {
      "cell_type": "markdown",
      "metadata": {
        "id": "NcWWPNbrxiin"
      },
      "source": [
        "Install lib"
      ]
    },
    {
      "cell_type": "code",
      "execution_count": null,
      "metadata": {
        "collapsed": true,
        "id": "OYwjgq-qvz5k"
      },
      "outputs": [],
      "source": [
        "!pip install -q llama-index\n",
        "!pip install openai\n",
        "!pip install llama-cpp-python\n",
        "!pip install transformers\n",
        "\n",
        "#!pip install PyPDF2\n"
      ]
    },
    {
      "cell_type": "markdown",
      "metadata": {
        "id": "LYmElI6Vyf-p"
      },
      "source": [
        "Import lib"
      ]
    },
    {
      "cell_type": "code",
      "execution_count": null,
      "metadata": {
        "id": "inQUJcAcygR0"
      },
      "outputs": [],
      "source": [
        "from llama_index.core import SimpleDirectoryReader, VectorStoreIndex, Settings #Load data and store embeddings\n",
        "from llama_index.llms.openai import OpenAI #chatgpt as llm\n",
        "from llama_index.embeddings.openai import OpenAIEmbedding #embedding generation\n",
        "from llama_index.core.node_parser import SentenceSplitter #break text into sentences\n",
        "\n",
        "import time #wait between inputs\n",
        "import os\n",
        "from IPython.display import clear_output #clear console\n",
        "from getpass import getpass #secure password input\n",
        "import openai #API KEY validation\n",
        "\n",
        "#from PyPDF2 import PdfReader\n",
        "#from IPython.display import Markdown, display #Display output"
      ]
    },
    {
      "cell_type": "markdown",
      "metadata": {
        "id": "Dyq47FM04jyF"
      },
      "source": [
        "Create directory for pdfs if not exists"
      ]
    },
    {
      "cell_type": "code",
      "execution_count": null,
      "metadata": {
        "id": "P7aYjeCS4mr_"
      },
      "outputs": [],
      "source": [
        "\n",
        "dir=\"/content/KW_space\" #dir path\n",
        "\n",
        "if not os.path.exists(dir): #Check if path already exist\n",
        "    try:\n",
        "      !mkdir {dir} #create directory\n",
        "      print(f\"directory: {dir} created\")\n",
        "    except:\n",
        "      print(f\"Fatal Error\")\n",
        "      exit(0)\n",
        "else:\n",
        "    print(f\"Directory {dir} exists.\")\n"
      ]
    },
    {
      "cell_type": "markdown",
      "metadata": {
        "id": "qwrbHKy5i5IZ"
      },
      "source": [
        "Click on the folder icon to show the directories (if not visible)"
      ]
    },
    {
      "cell_type": "markdown",
      "metadata": {
        "id": "yGOdGrBk4Gu4"
      },
      "source": [
        "![folder.png](data:image/png;base64,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)"
      ]
    },
    {
      "cell_type": "markdown",
      "metadata": {
        "id": "kg3P5ookIRtW"
      },
      "source": [
        "Refresh button:\n",
        "\n",
        "\n",
        "![refresh.jpg](data:image/jpeg;base64,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)\n",
        "\n",
        "Sometimes the directory exists while not displayed, there is no command to execute the refresh automatically"
      ]
    },
    {
      "cell_type": "code",
      "execution_count": null,
      "metadata": {
        "id": "B0BZ82hk-dAb"
      },
      "outputs": [],
      "source": [
        "print(\"please refresh files index (second icon on the left)\\n\")\n",
        "time.sleep(1)\n",
        "\n",
        "print(\"Directory is empty\\n\")\n",
        "print(\"please Load PDF into dir called: KW_space\\n\")\n",
        "print(\"If you can not see the directory please refresh the index\\n\")\n",
        "\n",
        "while not os.listdir(\"/content/KW_space\"): #check if dir is empty, wait until a file is loaded\n",
        "    time.sleep(2) #check every 2 sec\n",
        "\n",
        "clear_output() #clean console\n",
        "print(\"File Loaded\\n\")\n",
        "time.sleep(10) #wait to be sure the file is correctly loaded"
      ]
    },
    {
      "cell_type": "markdown",
      "metadata": {
        "id": "5CKfwVWD-lNN"
      },
      "source": [
        "Import Openai key"
      ]
    },
    {
      "cell_type": "code",
      "execution_count": null,
      "metadata": {
        "id": "UDZf0MX3-keC"
      },
      "outputs": [],
      "source": [
        "os.environ['OPENAI_API_KEY']=\"\" #Init API KEY var\n",
        "\n",
        "while  True:  #wait until a valid KEY is inserted\n",
        "  os.environ['OPENAI_API_KEY']=getpass(\"Please write OPENAI API KEY: \") #get API KEY as input\n",
        "  clear_output(wait=True) #clean console\n",
        "  client = openai.OpenAI(api_key=os.environ['OPENAI_API_KEY'])\n",
        "  try:\n",
        "      client.models.list() #Test API KEY validity\n",
        "      print( \"API Key is valid!\")\n",
        "      break\n",
        "\n",
        "  except :\n",
        "      print( \"Authentication failed: The API Key is invalid.\")\n",
        "\n",
        "\n",
        "print(\"Key saved\")\n",
        "time.sleep(5)"
      ]
    },
    {
      "cell_type": "markdown",
      "metadata": {
        "id": "Gak3t5cY2haf"
      },
      "source": [
        "Read PDF from directory"
      ]
    },
    {
      "cell_type": "code",
      "execution_count": null,
      "metadata": {
        "id": "Eyy3Erq6hv_s"
      },
      "outputs": [],
      "source": [
        "try:\n",
        "  doc=SimpleDirectoryReader( input_dir=dir, required_exts=[\".pdf\"]).load_data() #load file for llamaindex use\n",
        "  print(\"files imported correctly\")\n",
        "except:\n",
        "  print(\"error file not imported, control files\")\n"
      ]
    },
    {
      "cell_type": "markdown",
      "metadata": {
        "id": "F1CvF0rK4cGO"
      },
      "source": [
        "Setup model and chunks sizes\n",
        "\n"
      ]
    },
    {
      "cell_type": "code",
      "execution_count": null,
      "metadata": {
        "id": "EObzBFLx4gwh"
      },
      "outputs": [],
      "source": [
        "Settings.llm = OpenAI(model=\"gpt-3.5-turbo\")\n",
        "Settings.embed_model = OpenAIEmbedding(model=\"text-embedding-3-small\")\n",
        "Settings.node_parser = SentenceSplitter(chunk_size=512, chunk_overlap=20)  #512 tokens per chunk, 20 tokens overlapping from the previous chunk\n",
        "Settings.num_output = 512 # Number of tokens per output chunk\n",
        "Settings.context_window = 3900 # Size of the context window in tokens"
      ]
    },
    {
      "cell_type": "code",
      "execution_count": null,
      "metadata": {
        "id": "9v6bRq4r9v3H"
      },
      "outputs": [],
      "source": [
        "index= VectorStoreIndex.from_documents(doc) # Create an index from a list of documents, converting each document into a vector and storing them for retrieval.\n",
        "del doc #delete doc var\n",
        "# index.storage_context.persist()    #in case you want to save embeddings into a folder"
      ]
    },
    {
      "cell_type": "markdown",
      "metadata": {
        "id": "AsAa1-_oBlCS"
      },
      "source": [
        "Query"
      ]
    },
    {
      "cell_type": "code",
      "execution_count": null,
      "metadata": {
        "id": "OaZj3ZWWBmE9"
      },
      "outputs": [],
      "source": [
        "query_engine=index.as_query_engine() # create query engine to enable  search and retrieval operations on the document vectors.\n"
      ]
    },
    {
      "cell_type": "markdown",
      "metadata": {
        "id": "eaNHDjL9zIJV"
      },
      "source": [
        "Q/A"
      ]
    },
    {
      "cell_type": "code",
      "execution_count": null,
      "metadata": {
        "colab": {
          "background_save": true
        },
        "id": "ikpcRqLzCBcl"
      },
      "outputs": [],
      "source": [
        "count=0 #error counter\n",
        "while True: # Continue execution until 5 errors occur or the user inputs '0' to exit.\n",
        "\n",
        "  Q=input(\"what is you question based on the pdf? (0 to exit):\\n \") #input your question\n",
        "  if Q == \"0\":\n",
        "    count=0\n",
        "    break\n",
        "\n",
        "  try:\n",
        "    print(\"\\n\",query_engine.query(Q),\"\\n\\n\") #print response from llm\n",
        "    if count >0:\n",
        "      count=0 #reset error counter\n",
        "\n",
        "  except:\n",
        "    count+=1 #increment error counter\n",
        "    print(\"Problem occurred, please try again\")\n",
        "    if count >=5:\n",
        "      exit(0) #exit if 5 errors detected\n",
        "\n"
      ]
    }
  ],
  "metadata": {
    "colab": {
      "provenance": [],
      "authorship_tag": "ABX9TyMX+YmGmrr+3rvza37tyMUq",
      "include_colab_link": true
    },
    "kernelspec": {
      "display_name": "Python 3",
      "name": "python3"
    },
    "language_info": {
      "name": "python"
    }
  },
  "nbformat": 4,
  "nbformat_minor": 0
}